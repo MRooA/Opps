{
 "cells": [
  {
   "cell_type": "code",
   "execution_count": 1,
   "id": "046ad120-cce4-4f0e-a9f6-79e803905727",
   "metadata": {},
   "outputs": [
    {
     "data": {
      "text/plain": [
       "'\\n\\n\\n\\n\\n\\nHey there! 👋\\n\\nLet\\'s dive into the world of Object-Oriented Programming (OOP) and understand the core concepts of classes and objects.\\n\\nImagine you\\'re building a house. You\\'d start with a blueprint, right? That blueprint is like a class in OOP.\\nIt outlines the structure and characteristics of the house, like the number of rooms, the type of roof, and the \\nmaterials used.\\n\\nNow, based on this blueprint, you can build multiple houses. Each house is a unique object created from the same \\nblueprint (class). They all share the same basic structure but can have different features, like different colors\\nor furniture arrangements.\\n\\nHere\\'s a simple example:\\n\\nClass: Car\\n\\nclass Car:\\n  def __init__(self, brand, model, color):\\n    self.brand = brand\\n    self.model = model\\n    self.color = color\\n\\n  def drive(self):\\n    print(f\"The {self.brand} {self.model} is driving.\")\\nThis Car class defines the blueprint for a car. It has attributes like brand, model, and color, and a method called\\ndrive().\\n\\nObject: my_car\\n\\nmy_car = Car(\"Toyota\", \"Camry\", \"Blue\")\\nmy_car.drive()\\nHere, my_car is an object created from the Car class. It has specific values for its attributes: \"Toyota\" for brand,\\n\"Camry\" for model, and \"Blue\" for color. We can then use the drive() method on this object.\\n\\nSo, in OOP, a class acts as a template, while an object is an instance of that template.\\n\\nLet me know if you want to explore other OOP concepts like inheritance, polymorphism, or encapsulation!'"
      ]
     },
     "execution_count": 1,
     "metadata": {},
     "output_type": "execute_result"
    }
   ],
   "source": [
    "'''Q1. Explain Class and Object with respect to Object-Oriented Programming. Give a suitable example.'''\n",
    "class Car:\n",
    "  def __init__(self, brand, model, color):\n",
    "    self.brand = brand\n",
    "    self.model = model\n",
    "    self.color = color\n",
    "\n",
    "  def drive(self):\n",
    "    print(f\"The {self.brand} {self.model} is driving.\")\n",
    "\n",
    "\n",
    "'''\n",
    "\n",
    "\n",
    "\n",
    "\n",
    "\n",
    "Hey there! 👋\n",
    "\n",
    "Let's dive into the world of Object-Oriented Programming (OOP) and understand the core concepts of classes and objects.\n",
    "\n",
    "Imagine you're building a house. You'd start with a blueprint, right? That blueprint is like a class in OOP.\n",
    "It outlines the structure and characteristics of the house, like the number of rooms, the type of roof, and the \n",
    "materials used.\n",
    "\n",
    "Now, based on this blueprint, you can build multiple houses. Each house is a unique object created from the same \n",
    "blueprint (class). They all share the same basic structure but can have different features, like different colors\n",
    "or furniture arrangements.\n",
    "\n",
    "Here's a simple example:\n",
    "\n",
    "Class: Car\n",
    "\n",
    "class Car:\n",
    "  def __init__(self, brand, model, color):\n",
    "    self.brand = brand\n",
    "    self.model = model\n",
    "    self.color = color\n",
    "\n",
    "  def drive(self):\n",
    "    print(f\"The {self.brand} {self.model} is driving.\")\n",
    "This Car class defines the blueprint for a car. It has attributes like brand, model, and color, and a method called\n",
    "drive().\n",
    "\n",
    "Object: my_car\n",
    "\n",
    "my_car = Car(\"Toyota\", \"Camry\", \"Blue\")\n",
    "my_car.drive()\n",
    "Here, my_car is an object created from the Car class. It has specific values for its attributes: \"Toyota\" for brand,\n",
    "\"Camry\" for model, and \"Blue\" for color. We can then use the drive() method on this object.\n",
    "\n",
    "So, in OOP, a class acts as a template, while an object is an instance of that template.\n",
    "\n",
    "Let me know if you want to explore other OOP concepts like inheritance, polymorphism, or encapsulation!'''\n"
   ]
  },
  {
   "cell_type": "code",
   "execution_count": 3,
   "id": "b22c5587-967f-4fb5-8836-69007057f67b",
   "metadata": {},
   "outputs": [
    {
     "data": {
      "text/plain": [
       "'Q2. Name the four pillars of OOPs.\\n\\nThe four pillars of oops are Abstraction, Encapsulation, Inheritance, Polymorphism   '"
      ]
     },
     "execution_count": 3,
     "metadata": {},
     "output_type": "execute_result"
    }
   ],
   "source": [
    "'''Q2. Name the four pillars of OOPs.\n",
    "\n",
    "The four pillars of oops are Abstraction, Encapsulation, Inheritance, Polymorphism   '''"
   ]
  },
  {
   "cell_type": "code",
   "execution_count": 5,
   "id": "56ead738-57b9-430c-9e1e-2de9a88e39bd",
   "metadata": {},
   "outputs": [
    {
     "name": "stdout",
     "output_type": "stream",
     "text": [
      "Sparky is a Golden Retriever and is 3 years old.\n",
      "Buddy is a Labrador and is 5 years old.\n",
      "Woof!\n",
      "Woof!\n"
     ]
    }
   ],
   "source": [
    "\n",
    "\n",
    "'''\n",
    "Q3. Explain why the __init__() function is used. Give a suitable example.\n",
    "\n",
    "The __init__() function is a special method in OOP that plays a crucial role in setting up objects. Think of it as the\n",
    "\"constructor\" of an object,responsible for initializing its state.'''\n",
    "\n",
    "class Dog:\n",
    "  def __init__(self, name, breed, age):\n",
    "    self.name = name\n",
    "    self.breed = breed\n",
    "    self.age = age\n",
    "\n",
    "  def bark(self):\n",
    "    print(\"Woof!\")\n",
    "\n",
    "# Create two different dog objects\n",
    "sparky = Dog(\"Sparky\", \"Golden Retriever\", 3)\n",
    "buddy = Dog(\"Buddy\", \"Labrador\", 5)\n",
    "\n",
    "print(f\"{sparky.name} is a {sparky.breed} and is {sparky.age} years old.\")\n",
    "print(f\"{buddy.name} is a {buddy.breed} and is {buddy.age} years old.\")\n",
    "\n",
    "sparky.bark()\n",
    "buddy.bark()\n"
   ]
  },
  {
   "cell_type": "code",
   "execution_count": 7,
   "id": "3c7be440-9b6c-4ec2-8c23-e430497f0833",
   "metadata": {},
   "outputs": [
    {
     "data": {
      "text/plain": [
       "\"Q4. Why self is used in OOPs?\\n\\nThe self keyword in OOP is a bit of a mystery at first glance. It's a crucial part of how objects work, though.\\n\\nThink of self as a special reference that points to the specific object itself. It's like a little label attached to \\neach object, allowing it to identify its own attributes and methods.\""
      ]
     },
     "execution_count": 7,
     "metadata": {},
     "output_type": "execute_result"
    }
   ],
   "source": [
    "'''Q4. Why self is used in OOPs?\n",
    "\n",
    "The self keyword in OOP is a bit of a mystery at first glance. It's a crucial part of how objects work, though.\n",
    "\n",
    "Think of self as a special reference that points to the specific object itself. It's like a little label attached to \n",
    "each object, allowing it to identify its own attributes and methods.'''"
   ]
  },
  {
   "cell_type": "code",
   "execution_count": 9,
   "id": "681543a9-04ed-491d-8204-4e787bd6f55a",
   "metadata": {},
   "outputs": [
    {
     "name": "stdout",
     "output_type": "stream",
     "text": [
      "Woof!\n"
     ]
    }
   ],
   "source": [
    "'''\n",
    "Q5. What is inheritance? Give an example for each type of inheritance.\n",
    "\n",
    "Inheritance is a powerful concept in OOP that lets you create new classes based on existing ones.\n",
    "It's like building upon a foundation, inheriting the characteristics of the original class and adding\n",
    "your own unique features.\n",
    "\n",
    "Think of it like this:'''\n",
    "class Animal:\n",
    "  def __init__(self, name):\n",
    "    self.name = name\n",
    "\n",
    "  def speak(self):\n",
    "    print(\"Generic animal sound\")\n",
    "\n",
    "class Dog(Animal):\n",
    "  def speak(self):\n",
    "    print(\"Woof!\")\n",
    "\n",
    "my_dog = Dog(\"Buddy\")\n",
    "my_dog.speak()  # Output: Woof!\n"
   ]
  },
  {
   "cell_type": "code",
   "execution_count": null,
   "id": "557f23af-703b-4c0e-9592-5da564ab0f8a",
   "metadata": {},
   "outputs": [],
   "source": []
  }
 ],
 "metadata": {
  "kernelspec": {
   "display_name": "Python 3 (ipykernel)",
   "language": "python",
   "name": "python3"
  },
  "language_info": {
   "codemirror_mode": {
    "name": "ipython",
    "version": 3
   },
   "file_extension": ".py",
   "mimetype": "text/x-python",
   "name": "python",
   "nbconvert_exporter": "python",
   "pygments_lexer": "ipython3",
   "version": "3.12.7"
  }
 },
 "nbformat": 4,
 "nbformat_minor": 5
}
